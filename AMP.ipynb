{
 "cells": [
  {
   "cell_type": "raw",
   "metadata": {},
   "source": [
    "<script>\n",
    "  jQuery(document).ready(function($) {\n",
    "\n",
    "  $(window).load(function(){\n",
    "    $('#preloader').fadeOut('slow',function(){$(this).remove();});\n",
    "  });\n",
    "\n",
    "  });\n",
    "</script>\n",
    "\n",
    "<style type=\"text/css\">\n",
    "  div#preloader { position: fixed;\n",
    "      left: 0;\n",
    "      top: 0;\n",
    "      z-index: 999;\n",
    "      width: 100%;\n",
    "      height: 100%;\n",
    "      overflow: visible;\n",
    "      background: #fff url('http://preloaders.net/preloaders/720/Moving%20line.gif') no-repeat center center;\n",
    "  }\n",
    "\n",
    "</style>\n",
    "\n",
    "<div id=\"preloader\"></div>"
   ]
  },
  {
   "cell_type": "raw",
   "metadata": {},
   "source": [
    "<script>\n",
    "  function code_toggle() {\n",
    "    if (code_shown){\n",
    "      $('div.input').hide('500');\n",
    "      $('#toggleButton').val('Show Code')\n",
    "    } else {\n",
    "      $('div.input').show('500');\n",
    "      $('#toggleButton').val('Hide Code')\n",
    "    }\n",
    "    code_shown = !code_shown\n",
    "  }\n",
    "\n",
    "  $( document ).ready(function(){\n",
    "    code_shown=false;\n",
    "    $('div.input').hide()\n",
    "  });\n",
    "</script>\n",
    "<form action=\"javascript:code_toggle()\"><input type=\"submit\" id=\"toggleButton\" value=\"Show Code\"></form>"
   ]
  },
  {
   "cell_type": "code",
   "execution_count": 1,
   "metadata": {},
   "outputs": [],
   "source": [
    "import numpy as np\n",
    "import pandas as pd\n",
    "import matplotlib.pyplot as plt\n"
   ]
  },
  {
   "cell_type": "code",
   "execution_count": 2,
   "metadata": {},
   "outputs": [],
   "source": [
    "fpath = \"AMP_TRANSACTION_201808.csv\"\n",
    "\n",
    "txn_df = pd.read_csv(fpath, header=0)\n"
   ]
  },
  {
   "cell_type": "code",
   "execution_count": 3,
   "metadata": {},
   "outputs": [
    {
     "data": {
      "text/plain": [
       "3962403"
      ]
     },
     "execution_count": 3,
     "metadata": {},
     "output_type": "execute_result"
    }
   ],
   "source": [
    "txn_df.size"
   ]
  },
  {
   "cell_type": "code",
   "execution_count": 4,
   "metadata": {},
   "outputs": [
    {
     "data": {
      "text/html": [
       "<div>\n",
       "<style scoped>\n",
       "    .dataframe tbody tr th:only-of-type {\n",
       "        vertical-align: middle;\n",
       "    }\n",
       "\n",
       "    .dataframe tbody tr th {\n",
       "        vertical-align: top;\n",
       "    }\n",
       "\n",
       "    .dataframe thead th {\n",
       "        text-align: right;\n",
       "    }\n",
       "</style>\n",
       "<table border=\"1\" class=\"dataframe\">\n",
       "  <thead>\n",
       "    <tr style=\"text-align: right;\">\n",
       "      <th></th>\n",
       "      <th>ID</th>\n",
       "      <th>TRANS_TIME</th>\n",
       "      <th>TOTAL_TIME</th>\n",
       "      <th>SERVER_TIME</th>\n",
       "      <th>STATUS_ID</th>\n",
       "      <th>SHORT_DESC</th>\n",
       "      <th>COMMAND_ID</th>\n",
       "      <th>NAME</th>\n",
       "      <th>REQUEST_TYPE</th>\n",
       "    </tr>\n",
       "  </thead>\n",
       "  <tbody>\n",
       "    <tr>\n",
       "      <th>0</th>\n",
       "      <td>4222263934</td>\n",
       "      <td>8/27/2018 8:00:00. AM</td>\n",
       "      <td>658</td>\n",
       "      <td>13</td>\n",
       "      <td>1</td>\n",
       "      <td>STAT_OK</td>\n",
       "      <td>8259</td>\n",
       "      <td>utilities/Journal/view</td>\n",
       "      <td>1</td>\n",
       "    </tr>\n",
       "    <tr>\n",
       "      <th>1</th>\n",
       "      <td>4222263940</td>\n",
       "      <td>8/27/2018 8:00:00. AM</td>\n",
       "      <td>279</td>\n",
       "      <td>28</td>\n",
       "      <td>1</td>\n",
       "      <td>STAT_OK</td>\n",
       "      <td>7798</td>\n",
       "      <td>utilities/Authorization/myWorklist</td>\n",
       "      <td>1</td>\n",
       "    </tr>\n",
       "    <tr>\n",
       "      <th>2</th>\n",
       "      <td>4222263946</td>\n",
       "      <td>8/27/2018 8:00:00. AM</td>\n",
       "      <td>189</td>\n",
       "      <td>18</td>\n",
       "      <td>1</td>\n",
       "      <td>STAT_OK</td>\n",
       "      <td>10024</td>\n",
       "      <td>datacollection/grWorkRequirement/edit</td>\n",
       "      <td>1</td>\n",
       "    </tr>\n",
       "    <tr>\n",
       "      <th>3</th>\n",
       "      <td>4222265952</td>\n",
       "      <td>8/27/2018 8:00:00. AM</td>\n",
       "      <td>242</td>\n",
       "      <td>81</td>\n",
       "      <td>1</td>\n",
       "      <td>STAT_OK</td>\n",
       "      <td>8122</td>\n",
       "      <td>edbc/CalWorksEdbc/viewCalWorks</td>\n",
       "      <td>1</td>\n",
       "    </tr>\n",
       "    <tr>\n",
       "      <th>4</th>\n",
       "      <td>4222265953</td>\n",
       "      <td>8/27/2018 8:00:00. AM</td>\n",
       "      <td>219</td>\n",
       "      <td>21</td>\n",
       "      <td>1</td>\n",
       "      <td>STAT_OK</td>\n",
       "      <td>8258</td>\n",
       "      <td>utilities/Journal/search</td>\n",
       "      <td>1</td>\n",
       "    </tr>\n",
       "  </tbody>\n",
       "</table>\n",
       "</div>"
      ],
      "text/plain": [
       "           ID             TRANS_TIME  TOTAL_TIME  SERVER_TIME  STATUS_ID  \\\n",
       "0  4222263934  8/27/2018 8:00:00. AM         658           13          1   \n",
       "1  4222263940  8/27/2018 8:00:00. AM         279           28          1   \n",
       "2  4222263946  8/27/2018 8:00:00. AM         189           18          1   \n",
       "3  4222265952  8/27/2018 8:00:00. AM         242           81          1   \n",
       "4  4222265953  8/27/2018 8:00:00. AM         219           21          1   \n",
       "\n",
       "  SHORT_DESC  COMMAND_ID                                   NAME  REQUEST_TYPE  \n",
       "0    STAT_OK        8259                 utilities/Journal/view             1  \n",
       "1    STAT_OK        7798     utilities/Authorization/myWorklist             1  \n",
       "2    STAT_OK       10024  datacollection/grWorkRequirement/edit             1  \n",
       "3    STAT_OK        8122         edbc/CalWorksEdbc/viewCalWorks             1  \n",
       "4    STAT_OK        8258               utilities/Journal/search             1  "
      ]
     },
     "execution_count": 4,
     "metadata": {},
     "output_type": "execute_result"
    }
   ],
   "source": [
    "txn_df.head()\n"
   ]
  },
  {
   "cell_type": "code",
   "execution_count": 5,
   "metadata": {},
   "outputs": [
    {
     "data": {
      "text/html": [
       "<div>\n",
       "<style scoped>\n",
       "    .dataframe tbody tr th:only-of-type {\n",
       "        vertical-align: middle;\n",
       "    }\n",
       "\n",
       "    .dataframe tbody tr th {\n",
       "        vertical-align: top;\n",
       "    }\n",
       "\n",
       "    .dataframe thead th {\n",
       "        text-align: right;\n",
       "    }\n",
       "</style>\n",
       "<table border=\"1\" class=\"dataframe\">\n",
       "  <thead>\n",
       "    <tr style=\"text-align: right;\">\n",
       "      <th></th>\n",
       "      <th>ID</th>\n",
       "      <th>TRANS_TIME</th>\n",
       "      <th>TOTAL_TIME</th>\n",
       "      <th>SERVER_TIME</th>\n",
       "      <th>STATUS_ID</th>\n",
       "      <th>SHORT_DESC</th>\n",
       "      <th>COMMAND_ID</th>\n",
       "      <th>NAME</th>\n",
       "      <th>REQUEST_TYPE</th>\n",
       "    </tr>\n",
       "  </thead>\n",
       "  <tbody>\n",
       "    <tr>\n",
       "      <th>0</th>\n",
       "      <td>4222263934</td>\n",
       "      <td>2018-08-27 08:00:00</td>\n",
       "      <td>658</td>\n",
       "      <td>13</td>\n",
       "      <td>1</td>\n",
       "      <td>STAT_OK</td>\n",
       "      <td>8259</td>\n",
       "      <td>utilities/Journal/view</td>\n",
       "      <td>1</td>\n",
       "    </tr>\n",
       "    <tr>\n",
       "      <th>1</th>\n",
       "      <td>4222263940</td>\n",
       "      <td>2018-08-27 08:00:00</td>\n",
       "      <td>279</td>\n",
       "      <td>28</td>\n",
       "      <td>1</td>\n",
       "      <td>STAT_OK</td>\n",
       "      <td>7798</td>\n",
       "      <td>utilities/Authorization/myWorklist</td>\n",
       "      <td>1</td>\n",
       "    </tr>\n",
       "    <tr>\n",
       "      <th>2</th>\n",
       "      <td>4222263946</td>\n",
       "      <td>2018-08-27 08:00:00</td>\n",
       "      <td>189</td>\n",
       "      <td>18</td>\n",
       "      <td>1</td>\n",
       "      <td>STAT_OK</td>\n",
       "      <td>10024</td>\n",
       "      <td>datacollection/grWorkRequirement/edit</td>\n",
       "      <td>1</td>\n",
       "    </tr>\n",
       "    <tr>\n",
       "      <th>3</th>\n",
       "      <td>4222265952</td>\n",
       "      <td>2018-08-27 08:00:00</td>\n",
       "      <td>242</td>\n",
       "      <td>81</td>\n",
       "      <td>1</td>\n",
       "      <td>STAT_OK</td>\n",
       "      <td>8122</td>\n",
       "      <td>edbc/CalWorksEdbc/viewCalWorks</td>\n",
       "      <td>1</td>\n",
       "    </tr>\n",
       "    <tr>\n",
       "      <th>4</th>\n",
       "      <td>4222265953</td>\n",
       "      <td>2018-08-27 08:00:00</td>\n",
       "      <td>219</td>\n",
       "      <td>21</td>\n",
       "      <td>1</td>\n",
       "      <td>STAT_OK</td>\n",
       "      <td>8258</td>\n",
       "      <td>utilities/Journal/search</td>\n",
       "      <td>1</td>\n",
       "    </tr>\n",
       "  </tbody>\n",
       "</table>\n",
       "</div>"
      ],
      "text/plain": [
       "           ID          TRANS_TIME  TOTAL_TIME  SERVER_TIME  STATUS_ID  \\\n",
       "0  4222263934 2018-08-27 08:00:00         658           13          1   \n",
       "1  4222263940 2018-08-27 08:00:00         279           28          1   \n",
       "2  4222263946 2018-08-27 08:00:00         189           18          1   \n",
       "3  4222265952 2018-08-27 08:00:00         242           81          1   \n",
       "4  4222265953 2018-08-27 08:00:00         219           21          1   \n",
       "\n",
       "  SHORT_DESC  COMMAND_ID                                   NAME  REQUEST_TYPE  \n",
       "0    STAT_OK        8259                 utilities/Journal/view             1  \n",
       "1    STAT_OK        7798     utilities/Authorization/myWorklist             1  \n",
       "2    STAT_OK       10024  datacollection/grWorkRequirement/edit             1  \n",
       "3    STAT_OK        8122         edbc/CalWorksEdbc/viewCalWorks             1  \n",
       "4    STAT_OK        8258               utilities/Journal/search             1  "
      ]
     },
     "execution_count": 5,
     "metadata": {},
     "output_type": "execute_result"
    }
   ],
   "source": [
    "txn_df['TRANS_TIME'] = pd.to_datetime(txn_df['TRANS_TIME'])\n",
    "txn_df.head()\n"
   ]
  },
  {
   "cell_type": "code",
   "execution_count": 7,
   "metadata": {},
   "outputs": [
    {
     "data": {
      "text/plain": [
       "3962403"
      ]
     },
     "execution_count": 7,
     "metadata": {},
     "output_type": "execute_result"
    }
   ],
   "source": [
    "txn_df.size"
   ]
  },
  {
   "cell_type": "code",
   "execution_count": 35,
   "metadata": {},
   "outputs": [],
   "source": [
    "txn_mean = pd.DataFrame(txn_df.groupby([pd.Grouper(key='TRANS_TIME', freq='1min')])['SERVER_TIME'].mean())\n",
    "txn_count = pd.DataFrame(txn_df.groupby([pd.Grouper(key='TRANS_TIME', freq='1min')])['SERVER_TIME'].count())\n"
   ]
  },
  {
   "cell_type": "code",
   "execution_count": 36,
   "metadata": {},
   "outputs": [
    {
     "data": {
      "text/html": [
       "<div>\n",
       "<style scoped>\n",
       "    .dataframe tbody tr th:only-of-type {\n",
       "        vertical-align: middle;\n",
       "    }\n",
       "\n",
       "    .dataframe tbody tr th {\n",
       "        vertical-align: top;\n",
       "    }\n",
       "\n",
       "    .dataframe thead th {\n",
       "        text-align: right;\n",
       "    }\n",
       "</style>\n",
       "<table border=\"1\" class=\"dataframe\">\n",
       "  <thead>\n",
       "    <tr style=\"text-align: right;\">\n",
       "      <th></th>\n",
       "      <th>SERVER_TIME</th>\n",
       "    </tr>\n",
       "    <tr>\n",
       "      <th>TRANS_TIME</th>\n",
       "      <th></th>\n",
       "    </tr>\n",
       "  </thead>\n",
       "  <tbody>\n",
       "    <tr>\n",
       "      <th>2018-08-27 08:00:00</th>\n",
       "      <td>160.765140</td>\n",
       "    </tr>\n",
       "    <tr>\n",
       "      <th>2018-08-27 08:01:00</th>\n",
       "      <td>165.192548</td>\n",
       "    </tr>\n",
       "    <tr>\n",
       "      <th>2018-08-27 08:02:00</th>\n",
       "      <td>187.059565</td>\n",
       "    </tr>\n",
       "    <tr>\n",
       "      <th>2018-08-27 08:03:00</th>\n",
       "      <td>190.639134</td>\n",
       "    </tr>\n",
       "    <tr>\n",
       "      <th>2018-08-27 08:04:00</th>\n",
       "      <td>188.703322</td>\n",
       "    </tr>\n",
       "  </tbody>\n",
       "</table>\n",
       "</div>"
      ],
      "text/plain": [
       "                     SERVER_TIME\n",
       "TRANS_TIME                      \n",
       "2018-08-27 08:00:00   160.765140\n",
       "2018-08-27 08:01:00   165.192548\n",
       "2018-08-27 08:02:00   187.059565\n",
       "2018-08-27 08:03:00   190.639134\n",
       "2018-08-27 08:04:00   188.703322"
      ]
     },
     "execution_count": 36,
     "metadata": {},
     "output_type": "execute_result"
    }
   ],
   "source": [
    "type(txn_count)\n",
    "txn_count.size\n",
    "txn_mean.head()"
   ]
  },
  {
   "cell_type": "code",
   "execution_count": 37,
   "metadata": {},
   "outputs": [
    {
     "ename": "ValueError",
     "evalue": "Length mismatch: Expected axis has 1 elements, new values have 2 elements",
     "output_type": "error",
     "traceback": [
      "\u001b[0;31m---------------------------------------------------------------------------\u001b[0m",
      "\u001b[0;31mValueError\u001b[0m                                Traceback (most recent call last)",
      "\u001b[0;32m<ipython-input-37-c03b4728b576>\u001b[0m in \u001b[0;36m<module>\u001b[0;34m()\u001b[0m\n\u001b[0;32m----> 1\u001b[0;31m \u001b[0mtxn_count\u001b[0m\u001b[0;34m.\u001b[0m\u001b[0mcolumns\u001b[0m \u001b[0;34m=\u001b[0m \u001b[0;34m[\u001b[0m\u001b[0;34m'TRANS_TIME'\u001b[0m\u001b[0;34m,\u001b[0m \u001b[0;34m'COUNT'\u001b[0m\u001b[0;34m]\u001b[0m\u001b[0;34m\u001b[0m\u001b[0m\n\u001b[0m\u001b[1;32m      2\u001b[0m \u001b[0mtxn_mean\u001b[0m\u001b[0;34m.\u001b[0m\u001b[0mcolumns\u001b[0m \u001b[0;34m=\u001b[0m \u001b[0;34m[\u001b[0m\u001b[0;34m'TRANS_TIME'\u001b[0m\u001b[0;34m,\u001b[0m \u001b[0;34m'MEAN'\u001b[0m\u001b[0;34m]\u001b[0m\u001b[0;34m\u001b[0m\u001b[0m\n\u001b[1;32m      3\u001b[0m \u001b[0mprint\u001b[0m\u001b[0;34m(\u001b[0m\u001b[0mtxn_mean\u001b[0m\u001b[0;34m.\u001b[0m\u001b[0mcolumns\u001b[0m\u001b[0;34m)\u001b[0m\u001b[0;34m\u001b[0m\u001b[0m\n",
      "\u001b[0;32m/usr/lib/python3.7/site-packages/pandas/core/generic.py\u001b[0m in \u001b[0;36m__setattr__\u001b[0;34m(self, name, value)\u001b[0m\n\u001b[1;32m   4387\u001b[0m         \u001b[0;32mtry\u001b[0m\u001b[0;34m:\u001b[0m\u001b[0;34m\u001b[0m\u001b[0m\n\u001b[1;32m   4388\u001b[0m             \u001b[0mobject\u001b[0m\u001b[0;34m.\u001b[0m\u001b[0m__getattribute__\u001b[0m\u001b[0;34m(\u001b[0m\u001b[0mself\u001b[0m\u001b[0;34m,\u001b[0m \u001b[0mname\u001b[0m\u001b[0;34m)\u001b[0m\u001b[0;34m\u001b[0m\u001b[0m\n\u001b[0;32m-> 4389\u001b[0;31m             \u001b[0;32mreturn\u001b[0m \u001b[0mobject\u001b[0m\u001b[0;34m.\u001b[0m\u001b[0m__setattr__\u001b[0m\u001b[0;34m(\u001b[0m\u001b[0mself\u001b[0m\u001b[0;34m,\u001b[0m \u001b[0mname\u001b[0m\u001b[0;34m,\u001b[0m \u001b[0mvalue\u001b[0m\u001b[0;34m)\u001b[0m\u001b[0;34m\u001b[0m\u001b[0m\n\u001b[0m\u001b[1;32m   4390\u001b[0m         \u001b[0;32mexcept\u001b[0m \u001b[0mAttributeError\u001b[0m\u001b[0;34m:\u001b[0m\u001b[0;34m\u001b[0m\u001b[0m\n\u001b[1;32m   4391\u001b[0m             \u001b[0;32mpass\u001b[0m\u001b[0;34m\u001b[0m\u001b[0m\n",
      "\u001b[0;32mpandas/_libs/properties.pyx\u001b[0m in \u001b[0;36mpandas._libs.properties.AxisProperty.__set__\u001b[0;34m()\u001b[0m\n",
      "\u001b[0;32m/usr/lib/python3.7/site-packages/pandas/core/generic.py\u001b[0m in \u001b[0;36m_set_axis\u001b[0;34m(self, axis, labels)\u001b[0m\n\u001b[1;32m    644\u001b[0m \u001b[0;34m\u001b[0m\u001b[0m\n\u001b[1;32m    645\u001b[0m     \u001b[0;32mdef\u001b[0m \u001b[0m_set_axis\u001b[0m\u001b[0;34m(\u001b[0m\u001b[0mself\u001b[0m\u001b[0;34m,\u001b[0m \u001b[0maxis\u001b[0m\u001b[0;34m,\u001b[0m \u001b[0mlabels\u001b[0m\u001b[0;34m)\u001b[0m\u001b[0;34m:\u001b[0m\u001b[0;34m\u001b[0m\u001b[0m\n\u001b[0;32m--> 646\u001b[0;31m         \u001b[0mself\u001b[0m\u001b[0;34m.\u001b[0m\u001b[0m_data\u001b[0m\u001b[0;34m.\u001b[0m\u001b[0mset_axis\u001b[0m\u001b[0;34m(\u001b[0m\u001b[0maxis\u001b[0m\u001b[0;34m,\u001b[0m \u001b[0mlabels\u001b[0m\u001b[0;34m)\u001b[0m\u001b[0;34m\u001b[0m\u001b[0m\n\u001b[0m\u001b[1;32m    647\u001b[0m         \u001b[0mself\u001b[0m\u001b[0;34m.\u001b[0m\u001b[0m_clear_item_cache\u001b[0m\u001b[0;34m(\u001b[0m\u001b[0;34m)\u001b[0m\u001b[0;34m\u001b[0m\u001b[0m\n\u001b[1;32m    648\u001b[0m \u001b[0;34m\u001b[0m\u001b[0m\n",
      "\u001b[0;32m/usr/lib/python3.7/site-packages/pandas/core/internals.py\u001b[0m in \u001b[0;36mset_axis\u001b[0;34m(self, axis, new_labels)\u001b[0m\n\u001b[1;32m   3321\u001b[0m             raise ValueError(\n\u001b[1;32m   3322\u001b[0m                 \u001b[0;34m'Length mismatch: Expected axis has {old} elements, new '\u001b[0m\u001b[0;34m\u001b[0m\u001b[0m\n\u001b[0;32m-> 3323\u001b[0;31m                 'values have {new} elements'.format(old=old_len, new=new_len))\n\u001b[0m\u001b[1;32m   3324\u001b[0m \u001b[0;34m\u001b[0m\u001b[0m\n\u001b[1;32m   3325\u001b[0m         \u001b[0mself\u001b[0m\u001b[0;34m.\u001b[0m\u001b[0maxes\u001b[0m\u001b[0;34m[\u001b[0m\u001b[0maxis\u001b[0m\u001b[0;34m]\u001b[0m \u001b[0;34m=\u001b[0m \u001b[0mnew_labels\u001b[0m\u001b[0;34m\u001b[0m\u001b[0m\n",
      "\u001b[0;31mValueError\u001b[0m: Length mismatch: Expected axis has 1 elements, new values have 2 elements"
     ]
    }
   ],
   "source": [
    "txn_count.columns = ['TRANS_TIME', 'COUNT']\n",
    "txn_mean.columns = ['TRANS_TIME', 'MEAN']\n",
    "print(txn_mean.columns)"
   ]
  },
  {
   "cell_type": "code",
   "execution_count": 38,
   "metadata": {},
   "outputs": [
    {
     "data": {
      "image/png": "[encoded data removed]",
      "text/plain": [
       "<Figure size 432x288 with 1 Axes>"
      ]
     },
     "metadata": {},
     "output_type": "display_data"
    }
   ],
   "source": [
    "txn_count.plot();"
   ]
  },
  {
   "cell_type": "code",
   "execution_count": 44,
   "metadata": {},
   "outputs": [
    {
     "name": "stdout",
     "output_type": "stream",
     "text": [
      "DatetimeIndex(['2018-08-27 08:00:00', '2018-08-27 08:01:00',\n",
      "               '2018-08-27 08:02:00', '2018-08-27 08:03:00',\n",
      "               '2018-08-27 08:04:00', '2018-08-27 08:05:00',\n",
      "               '2018-08-27 08:06:00', '2018-08-27 08:07:00',\n",
      "               '2018-08-27 08:08:00', '2018-08-27 08:09:00',\n",
      "               '2018-08-27 08:10:00', '2018-08-27 08:11:00',\n",
      "               '2018-08-27 08:12:00', '2018-08-27 08:13:00',\n",
      "               '2018-08-27 08:14:00', '2018-08-27 08:15:00',\n",
      "               '2018-08-27 08:16:00', '2018-08-27 08:17:00',\n",
      "               '2018-08-27 08:18:00', '2018-08-27 08:19:00',\n",
      "               '2018-08-27 08:20:00', '2018-08-27 08:21:00',\n",
      "               '2018-08-27 08:22:00', '2018-08-27 08:23:00',\n",
      "               '2018-08-27 08:24:00', '2018-08-27 08:25:00',\n",
      "               '2018-08-27 08:26:00', '2018-08-27 08:27:00',\n",
      "               '2018-08-27 08:28:00', '2018-08-27 08:29:00',\n",
      "               '2018-08-27 08:30:00', '2018-08-27 08:31:00',\n",
      "               '2018-08-27 08:32:00', '2018-08-27 08:33:00',\n",
      "               '2018-08-27 08:34:00', '2018-08-27 08:35:00',\n",
      "               '2018-08-27 08:36:00', '2018-08-27 08:37:00',\n",
      "               '2018-08-27 08:38:00', '2018-08-27 08:39:00',\n",
      "               '2018-08-27 08:40:00', '2018-08-27 08:41:00',\n",
      "               '2018-08-27 08:42:00', '2018-08-27 08:43:00',\n",
      "               '2018-08-27 08:44:00', '2018-08-27 08:45:00',\n",
      "               '2018-08-27 08:46:00', '2018-08-27 08:47:00',\n",
      "               '2018-08-27 08:48:00', '2018-08-27 08:49:00',\n",
      "               '2018-08-27 08:50:00', '2018-08-27 08:51:00',\n",
      "               '2018-08-27 08:52:00', '2018-08-27 08:53:00',\n",
      "               '2018-08-27 08:54:00', '2018-08-27 08:55:00',\n",
      "               '2018-08-27 08:56:00', '2018-08-27 08:57:00',\n",
      "               '2018-08-27 08:58:00', '2018-08-27 08:59:00'],\n",
      "              dtype='datetime64[ns]', name='TRANS_TIME', freq='T')\n"
     ]
    }
   ],
   "source": [
    "print(txn_count.index)"
   ]
  },
  {
   "cell_type": "code",
   "execution_count": 43,
   "metadata": {},
   "outputs": [
    {
     "data": {
      "text/plain": [
       "[<matplotlib.lines.Line2D at 0x7f947226ba90>]"
      ]
     },
     "execution_count": 43,
     "metadata": {},
     "output_type": "execute_result"
    },
    {
     "data": {
      "image/png": "[encoded data removed]",
      "text/plain": [
       "<Figure size 432x288 with 1 Axes>"
      ]
     },
     "metadata": {},
     "output_type": "display_data"
    }
   ],
   "source": [
    "x = txn_count.index\n",
    "y = txn_count.values\n",
    "fig = plt.figure()\n",
    "ax = fig.add_subplot(111)\n",
    "ax.plot_date(x, y, xdate=True, ydate=False, color='skyblue');"
   ]
  },
  {
   "cell_type": "code",
   "execution_count": null,
   "metadata": {},
   "outputs": [],
   "source": []
  },
  {
   "cell_type": "code",
   "execution_count": 32,
   "metadata": {},
   "outputs": [
    {
     "data": {
      "text/plain": [
       "Index(['index', 'TRANS_TIME', 'SERVER_TIME'], dtype='object')"
      ]
     },
     "execution_count": 32,
     "metadata": {},
     "output_type": "execute_result"
    }
   ],
   "source": [
    "# This is not required with the above method. We get the index values (timestamps)\n",
    "txn_count.reset_index(inplace=True)\n",
    "txn_count.columns\n",
    "txn_mean.reset_index(inplace=True)\n",
    "txn_mean.columns\n"
   ]
  },
  {
   "cell_type": "code",
   "execution_count": 49,
   "metadata": {},
   "outputs": [
    {
     "name": "stdout",
     "output_type": "stream",
     "text": [
      "9480.8 9578.67\n"
     ]
    }
   ],
   "source": [
    "ninety_five_quantile = txn_count.quantile(.95)[0]\n",
    "ninety_ninth_quantile = txn_count.quantile(.99)[0]\n",
    "print(ninety_five_quantile, ninety_ninth_quantile)"
   ]
  },
  {
   "cell_type": "code",
   "execution_count": 33,
   "metadata": {},
   "outputs": [
    {
     "ename": "TypeError",
     "evalue": "invalid type promotion",
     "output_type": "error",
     "traceback": [
      "\u001b[0;31m---------------------------------------------------------------------------\u001b[0m",
      "\u001b[0;31mTypeError\u001b[0m                                 Traceback (most recent call last)",
      "\u001b[0;32m<ipython-input-33-4039c4beb647>\u001b[0m in \u001b[0;36m<module>\u001b[0;34m()\u001b[0m\n\u001b[1;32m      3\u001b[0m \u001b[0;34m\u001b[0m\u001b[0m\n\u001b[1;32m      4\u001b[0m \u001b[0mfig\u001b[0m\u001b[0;34m,\u001b[0m \u001b[0;34m(\u001b[0m\u001b[0max1\u001b[0m\u001b[0;34m,\u001b[0m \u001b[0max2\u001b[0m\u001b[0;34m)\u001b[0m \u001b[0;34m=\u001b[0m \u001b[0mplt\u001b[0m\u001b[0;34m.\u001b[0m\u001b[0msubplots\u001b[0m\u001b[0;34m(\u001b[0m\u001b[0mnrows\u001b[0m\u001b[0;34m=\u001b[0m\u001b[0;36m1\u001b[0m\u001b[0;34m,\u001b[0m \u001b[0mncols\u001b[0m\u001b[0;34m=\u001b[0m\u001b[0;36m2\u001b[0m\u001b[0;34m,\u001b[0m \u001b[0mfigsize\u001b[0m\u001b[0;34m=\u001b[0m\u001b[0;34m(\u001b[0m\u001b[0;36m12\u001b[0m\u001b[0;34m,\u001b[0m\u001b[0;36m6\u001b[0m\u001b[0;34m)\u001b[0m\u001b[0;34m)\u001b[0m\u001b[0;34m\u001b[0m\u001b[0m\n\u001b[0;32m----> 5\u001b[0;31m \u001b[0max1\u001b[0m\u001b[0;34m.\u001b[0m\u001b[0mscatter\u001b[0m\u001b[0;34m(\u001b[0m\u001b[0mx\u001b[0m\u001b[0;34m=\u001b[0m\u001b[0mtxn_count\u001b[0m\u001b[0;34m[\u001b[0m\u001b[0;34m'TRANS_TIME'\u001b[0m\u001b[0;34m]\u001b[0m\u001b[0;34m,\u001b[0m \u001b[0my\u001b[0m\u001b[0;34m=\u001b[0m\u001b[0mtxn_count\u001b[0m\u001b[0;34m[\u001b[0m\u001b[0;34m'SERVER_TIME'\u001b[0m\u001b[0;34m]\u001b[0m\u001b[0;34m)\u001b[0m\u001b[0;34m\u001b[0m\u001b[0m\n\u001b[0m\u001b[1;32m      6\u001b[0m \u001b[0max2\u001b[0m\u001b[0;34m.\u001b[0m\u001b[0mscatter\u001b[0m\u001b[0;34m(\u001b[0m\u001b[0mx\u001b[0m\u001b[0;34m=\u001b[0m\u001b[0mtxn_mean\u001b[0m\u001b[0;34m[\u001b[0m\u001b[0;34m'TRANS_TIME'\u001b[0m\u001b[0;34m]\u001b[0m\u001b[0;34m,\u001b[0m \u001b[0my\u001b[0m\u001b[0;34m=\u001b[0m\u001b[0mtxn_mean\u001b[0m\u001b[0;34m[\u001b[0m\u001b[0;34m'SERVER_TIME'\u001b[0m\u001b[0;34m]\u001b[0m\u001b[0;34m)\u001b[0m\u001b[0;34m\u001b[0m\u001b[0m\n\u001b[1;32m      7\u001b[0m \u001b[0mplt\u001b[0m\u001b[0;34m.\u001b[0m\u001b[0mshow\u001b[0m\u001b[0;34m(\u001b[0m\u001b[0;34m)\u001b[0m\u001b[0;34m\u001b[0m\u001b[0m\n",
      "\u001b[0;32m/usr/lib/python3.7/site-packages/matplotlib/__init__.py\u001b[0m in \u001b[0;36minner\u001b[0;34m(ax, *args, **kwargs)\u001b[0m\n\u001b[1;32m   1865\u001b[0m                         \u001b[0;34m\"the Matplotlib list!)\"\u001b[0m \u001b[0;34m%\u001b[0m \u001b[0;34m(\u001b[0m\u001b[0mlabel_namer\u001b[0m\u001b[0;34m,\u001b[0m \u001b[0mfunc\u001b[0m\u001b[0;34m.\u001b[0m\u001b[0m__name__\u001b[0m\u001b[0;34m)\u001b[0m\u001b[0;34m,\u001b[0m\u001b[0;34m\u001b[0m\u001b[0m\n\u001b[1;32m   1866\u001b[0m                         RuntimeWarning, stacklevel=2)\n\u001b[0;32m-> 1867\u001b[0;31m             \u001b[0;32mreturn\u001b[0m \u001b[0mfunc\u001b[0m\u001b[0;34m(\u001b[0m\u001b[0max\u001b[0m\u001b[0;34m,\u001b[0m \u001b[0;34m*\u001b[0m\u001b[0margs\u001b[0m\u001b[0;34m,\u001b[0m \u001b[0;34m**\u001b[0m\u001b[0mkwargs\u001b[0m\u001b[0;34m)\u001b[0m\u001b[0;34m\u001b[0m\u001b[0m\n\u001b[0m\u001b[1;32m   1868\u001b[0m \u001b[0;34m\u001b[0m\u001b[0m\n\u001b[1;32m   1869\u001b[0m         inner.__doc__ = _add_data_doc(inner.__doc__,\n",
      "\u001b[0;32m/usr/lib/python3.7/site-packages/matplotlib/axes/_axes.py\u001b[0m in \u001b[0;36mscatter\u001b[0;34m(self, x, y, s, c, marker, cmap, norm, vmin, vmax, alpha, linewidths, verts, edgecolors, **kwargs)\u001b[0m\n\u001b[1;32m   4323\u001b[0m             \u001b[0mlinewidths\u001b[0m \u001b[0;34m=\u001b[0m \u001b[0mrcParams\u001b[0m\u001b[0;34m[\u001b[0m\u001b[0;34m'lines.linewidth'\u001b[0m\u001b[0;34m]\u001b[0m\u001b[0;34m\u001b[0m\u001b[0m\n\u001b[1;32m   4324\u001b[0m \u001b[0;34m\u001b[0m\u001b[0m\n\u001b[0;32m-> 4325\u001b[0;31m         \u001b[0moffsets\u001b[0m \u001b[0;34m=\u001b[0m \u001b[0mnp\u001b[0m\u001b[0;34m.\u001b[0m\u001b[0mcolumn_stack\u001b[0m\u001b[0;34m(\u001b[0m\u001b[0;34m[\u001b[0m\u001b[0mx\u001b[0m\u001b[0;34m,\u001b[0m \u001b[0my\u001b[0m\u001b[0;34m]\u001b[0m\u001b[0;34m)\u001b[0m\u001b[0;34m\u001b[0m\u001b[0m\n\u001b[0m\u001b[1;32m   4326\u001b[0m \u001b[0;34m\u001b[0m\u001b[0m\n\u001b[1;32m   4327\u001b[0m         collection = mcoll.PathCollection(\n",
      "\u001b[0;32m/usr/lib/python3.7/site-packages/numpy/lib/shape_base.py\u001b[0m in \u001b[0;36mcolumn_stack\u001b[0;34m(tup)\u001b[0m\n\u001b[1;32m    592\u001b[0m             \u001b[0marr\u001b[0m \u001b[0;34m=\u001b[0m \u001b[0marray\u001b[0m\u001b[0;34m(\u001b[0m\u001b[0marr\u001b[0m\u001b[0;34m,\u001b[0m \u001b[0mcopy\u001b[0m\u001b[0;34m=\u001b[0m\u001b[0;32mFalse\u001b[0m\u001b[0;34m,\u001b[0m \u001b[0msubok\u001b[0m\u001b[0;34m=\u001b[0m\u001b[0;32mTrue\u001b[0m\u001b[0;34m,\u001b[0m \u001b[0mndmin\u001b[0m\u001b[0;34m=\u001b[0m\u001b[0;36m2\u001b[0m\u001b[0;34m)\u001b[0m\u001b[0;34m.\u001b[0m\u001b[0mT\u001b[0m\u001b[0;34m\u001b[0m\u001b[0m\n\u001b[1;32m    593\u001b[0m         \u001b[0marrays\u001b[0m\u001b[0;34m.\u001b[0m\u001b[0mappend\u001b[0m\u001b[0;34m(\u001b[0m\u001b[0marr\u001b[0m\u001b[0;34m)\u001b[0m\u001b[0;34m\u001b[0m\u001b[0m\n\u001b[0;32m--> 594\u001b[0;31m     \u001b[0;32mreturn\u001b[0m \u001b[0m_nx\u001b[0m\u001b[0;34m.\u001b[0m\u001b[0mconcatenate\u001b[0m\u001b[0;34m(\u001b[0m\u001b[0marrays\u001b[0m\u001b[0;34m,\u001b[0m \u001b[0;36m1\u001b[0m\u001b[0;34m)\u001b[0m\u001b[0;34m\u001b[0m\u001b[0m\n\u001b[0m\u001b[1;32m    595\u001b[0m \u001b[0;34m\u001b[0m\u001b[0m\n\u001b[1;32m    596\u001b[0m \u001b[0;32mdef\u001b[0m \u001b[0mdstack\u001b[0m\u001b[0;34m(\u001b[0m\u001b[0mtup\u001b[0m\u001b[0;34m)\u001b[0m\u001b[0;34m:\u001b[0m\u001b[0;34m\u001b[0m\u001b[0m\n",
      "\u001b[0;31mTypeError\u001b[0m: invalid type promotion"
     ]
    },
    {
     "data": {
      "image/png": "[encoded data removed]",
      "text/plain": [
       "<Figure size 864x432 with 2 Axes>"
      ]
     },
     "metadata": {},
     "output_type": "display_data"
    }
   ],
   "source": [
    "#txn_count.set_index('TRANS_TIME')\n",
    "\n",
    "\n",
    "fig, (ax1, ax2) = plt.subplots(nrows=1, ncols=2, figsize=(12,6))\n",
    "ax1.scatter(x=txn_count['TRANS_TIME'], y=txn_count['SERVER_TIME'])\n",
    "ax2.scatter(x=txn_mean['TRANS_TIME'], y=txn_mean['SERVER_TIME'])\n",
    "plt.show()"
   ]
  },
  {
   "cell_type": "code",
   "execution_count": null,
   "metadata": {},
   "outputs": [],
   "source": [
    "commands = perf_data[\"NAME\"]\n",
    "x = np.random.randint(low=1, high=11, size=50)\n",
    "y = x + np.random.randint(1, 5, size=x.size)\n",
    "data = np.column_stack((x, y))\n",
    "\n",
    "fig, (ax1, ax2) = plt.subplots(nrows = 1, ncols = 2, figsize = (8, 4))\n",
    "ax1.scatter(x = x, y = y, marker = 'o', c = 'r', edgecolor = 'r')\n",
    "ax1.set_xlabel('$x$')\n",
    "ax1.set_ylabel('$y$')\n",
    "ax1.set_title('Scatter: $x$ versus $y$')\n",
    "\n",
    "ax2.hist(data, bins = np.arange(data.min(), data.max()), label = ('x', 'y'))\n",
    "ax2.legend(loc = (0.65, 0.8))\n",
    "ax2.set_title('Frequencies of $x$ and $y$')\n",
    "ax2.yaxis.tick_right()"
   ]
  },
  {
   "cell_type": "code",
   "execution_count": null,
   "metadata": {},
   "outputs": [],
   "source": [
    "fig, ax = plt.subplots()\n",
    "ax.hist(perf_data[\"NAME\"], bins=\"auto\")\n",
    "ax.set_title(\"Histogram of commands\")\n",
    "\n",
    "plt.show()\n"
   ]
  },
  {
   "cell_type": "code",
   "execution_count": null,
   "metadata": {},
   "outputs": [],
   "source": [
    "x = np.random.randint(low=1, high=11, size=50)\n",
    "y = x + np.random.randint(1, 5, size=x.size)\n",
    "data = np.column_stack((x, y))\n",
    "\n",
    "fig, (ax1, ax2) = plt.subplots(nrows = 1, ncols = 2, figsize = (8, 4))\n",
    "ax1.scatter(x = x, y = y, marker = 'o', c = 'r', edgecolor = 'r')\n",
    "ax1.set_xlabel('$x$')\n",
    "ax1.set_ylabel('$y$')\n",
    "ax1.set_title('Scatter: $x$ versus $y$')\n",
    "\n",
    "ax2.hist(data, bins = np.arange(data.min(), data.max()), label = ('x', 'y'))\n",
    "ax2.legend(loc = (0.65, 0.8))\n",
    "ax2.set_title('Frequencies of $x$ and $y$')\n",
    "ax2.yaxis.tick_right()"
   ]
  },
  {
   "cell_type": "markdown",
   "metadata": {},
   "source": [
    "### New cells to manipulate time series\n",
    "\n"
   ]
  },
  {
   "cell_type": "code",
   "execution_count": null,
   "metadata": {},
   "outputs": [],
   "source": [
    "# Timeseries Dataframe to a Series with groupby\n",
    "pan.groupby(pan.Time).mean()\n",
    "\n",
    "# Option 1 with TimeGrouper\n",
    "df.set_index('Time', inplace=True)\n",
    "# Taking mean values for a frequency of 2 minutes\n",
    "df_group = df.groupby(pd.TimeGrouper(level='Time', freq='2T'))['Value'].agg('mean')   \n",
    "df_group.dropna(inplace=True)\n",
    "df_group = df_group.to_frame().reset_index()\n",
    "print(df_group)\n",
    "\n",
    "# Option 2 with resample()\n",
    "print(df.set_index('Time').resample('2T').mean().dropna().reset_index())"
   ]
  }
 ],
 "metadata": {
  "kernelspec": {
   "display_name": "Python 3",
   "language": "python",
   "name": "python3"
  },
  "language_info": {
   "codemirror_mode": {
    "name": "ipython",
    "version": 3
   },
   "file_extension": ".py",
   "mimetype": "text/x-python",
   "name": "python",
   "nbconvert_exporter": "python",
   "pygments_lexer": "ipython3",
   "version": "3.7.0"
  }
 },
 "nbformat": 4,
 "nbformat_minor": 2
}
